{
 "cells": [
  {
   "cell_type": "markdown",
   "metadata": {
    "nbpresent": {
     "id": "0ab7d10f-d03b-4185-9d6e-225fe24f7660"
    }
   },
   "source": [
    "# Virtual environments management basics"
   ]
  },
  {
   "cell_type": "markdown",
   "metadata": {
    "nbpresent": {
     "id": "5436ae23-8243-41b7-90fa-4ae2194d8e3d"
    }
   },
   "source": [
    "## Introduction\n",
    "\n",
    "Python is a modern, robust, high level programming language. It is very easy to pick up even if you are completely new to programming."
   ]
  },
  {
   "cell_type": "markdown",
   "metadata": {
    "nbpresent": {
     "id": "8ee8aca0-4626-42ed-a6fc-57521122bf58"
    }
   },
   "source": [
    "## Python Installation"
   ]
  },
  {
   "cell_type": "markdown",
   "metadata": {
    "nbpresent": {
     "id": "8d7e9088-d40a-47d4-8811-5d9d747e9194"
    }
   },
   "source": [
    "### 1. Official distribution\n",
    "\n",
    "Mac OS X and Linux comes pre installed with python. Windows users can download python from https://www.python.org/downloads/ .\n"
   ]
  },
  {
   "cell_type": "markdown",
   "metadata": {
    "nbpresent": {
     "id": "820d566f-c7de-4d42-b67c-1df197eb1b6f"
    }
   },
   "source": [
    "### 2. Unofficial distributions\n",
    "\n",
    "Installing all the necessary libraries might prove troublesome. Anaconda and Canopy comes pre packaged with all the necessary python libraries and also IPython."
   ]
  },
  {
   "cell_type": "markdown",
   "metadata": {
    "nbpresent": {
     "id": "049c5e56-e0a0-45c4-b99c-c35b975ad0de"
    }
   },
   "source": [
    "#### Anaconda [RECOMMENDED]\n",
    "\n",
    "Leading Open Data Science Platform Powered by Python\n",
    "\n",
    "Anaconda Distribution gives superpowers to people that change the world with high performance, cross-platform Python and R that includes the best innovative data science from open source. Using over 720 packages for data preparation, data analysis, data visualization, machine learning and interactive data science applications that deliver results - everything from discovering gravitational waves to creating new revenue channels. Data Scientists worldwide rely on the Anaconda Distribution for easy package, dependency and environment management."
   ]
  },
  {
   "cell_type": "markdown",
   "metadata": {
    "nbpresent": {
     "id": "add973be-18c6-4fa4-9fb4-b2a6e2064734"
    }
   },
   "source": [
    "\n",
    "Download Anaconda from https://www.anaconda.com/download/\n",
    "\n",
    "Anaconda is completely free and includes more than 700 python packages. Both python 2.7 and 3.7 options are available.\n",
    "\n",
    "\n",
    "More information: https://docs.continuum.io/"
   ]
  },
  {
   "cell_type": "markdown",
   "metadata": {},
   "source": [
    "<font color='color'>\n",
    "You should install Python 3\n",
    "</font>\n",
    "<font color='color'>\n",
    "Python 2.7 is end of life, and will not be maintained past January 1, 2020.\n",
    "</font>\n",
    "<font color='color'>\n",
    "Working with Python 2.7 is at your own risk. Do not expect much support.\n",
    "</font>\n",
    "<font color='color'>\n",
    "Official announcement\n",
    "The end is nigh\n",
    "</font>\n",
    "<font color='color'>"
   ]
  },
  {
   "cell_type": "markdown",
   "metadata": {
    "nbpresent": {
     "id": "fbc3bc7c-52ec-4557-9e8e-778a4e37c090"
    }
   },
   "source": [
    "## Virtual environments\n",
    "\n",
    "We will get you to install an extremely useful tool to help keep your coding environment tidy on your computer. It's possible to skip this step, but it's highly recommended. Starting with the best possible setup will save you a lot of trouble in the future!\n",
    "\n",
    "So, let's create a virtual environment (also called a virtualenv). Virtualenv will isolate your Python setup on a per-project basis."
   ]
  },
  {
   "cell_type": "markdown",
   "metadata": {
    "nbpresent": {
     "id": "3ca2a22c-8569-47c6-a61b-e17b805dce44"
    }
   },
   "source": [
    "### 1. Using Anaconda"
   ]
  },
  {
   "cell_type": "markdown",
   "metadata": {
    "nbpresent": {
     "id": "8d1374b7-810d-40df-a955-df62c2c98064"
    }
   },
   "source": [
    "### Create virtual environment\n",
    "Creating a virtualenv on both Linux and OS X is as simple as running\n",
    "\n",
    "    $> conda create -n myenv python\n",
    "myenv is the name of your virtualenv. You can use any other name, but stick to lowercase and use no spaces. It is also good idea to keep the name short as you'll be referencing it a lot."
   ]
  },
  {
   "cell_type": "markdown",
   "metadata": {
    "nbpresent": {
     "id": "7bf92dd6-e1fe-4014-a627-6547ec2a47d0"
    }
   },
   "source": [
    "### Using a virtual environment\n",
    "     $> source activate myenvironment\n",
    "You will know that you have virtualenv started when you see that the prompt in your console is prefixed with (myvenvironment)."
   ]
  },
  {
   "cell_type": "markdown",
   "metadata": {
    "nbpresent": {
     "id": "68f1026f-21d5-4176-81c9-874e9e21a511"
    }
   },
   "source": [
    "### Installing packages\n",
    "    $> conda install packagename\n",
    "    \n",
    "Example to install jupyter notebook\n",
    "    \n",
    "    $> conda install jupyter\n",
    "    \n",
    "For more information: https://docs.continuum.io/"
   ]
  },
  {
   "cell_type": "markdown",
   "metadata": {
    "nbpresent": {
     "id": "f794b7ee-adae-4688-b4b3-84ff7bf533a9"
    }
   },
   "source": [
    "### 2. Using the official distribution"
   ]
  },
  {
   "cell_type": "markdown",
   "metadata": {
    "nbpresent": {
     "id": "c2726afc-1bf8-4641-9bca-b7593e1c1687"
    }
   },
   "source": [
    "### Create virtual environment\n",
    "To create a virtualenv on both Linux and OS X you need to install virtualenv functionality:\n",
    "\n",
    "    $> python3 -m venv myvenv\n",
    "    \n",
    "And then create the virtual environment\n",
    "\n",
    "    $> cd my_project_folder\n",
    "    \n",
    "    $> virtualenv myvirtualenv\n",
    "\n",
    "myvirtualenv is the name of your virtualenv. You can use any other name, but stick to lowercase and use no spaces. It is also good idea to keep the name short as you'll be referencing it a lot."
   ]
  },
  {
   "cell_type": "markdown",
   "metadata": {
    "nbpresent": {
     "id": "f3e2c1a2-c2fb-4b63-92d7-79f1ce6b6862"
    }
   },
   "source": [
    "### Using a virtual environment\n",
    "\n",
    "In Windows\n",
    "    C:\\Users\\Name\\myfolder> myvenv\\Scripts\\activate\n",
    "    \n",
    "Linux and MacOS\n",
    "    $> source myvirtualenv/bin/activate\n",
    "\n",
    "You will know that you have virtualenv started when you see that the prompt in your console is prefixed with (myvirtualenv)."
   ]
  },
  {
   "cell_type": "markdown",
   "metadata": {
    "nbpresent": {
     "id": "56c40f5a-6ae4-4971-a294-434fc4301143"
    }
   },
   "source": [
    "### Installing packages\n",
    "    $> pip install packagename\n",
    "    \n",
    "Example to install jupyter notebook\n",
    "    \n",
    "    $> pip install jupyter"
   ]
  },
  {
   "cell_type": "markdown",
   "metadata": {
    "nbpresent": {
     "id": "97ba4f41-01ae-4bf4-90b1-cfdb3f1d885e"
    }
   },
   "source": [
    "## Launching Jupyter Notebook\n",
    "\n",
    "From the terminal, after activating the virtual environment:\n",
    "\n",
    "    $> jupyter notebook\n"
   ]
  }
 ],
 "metadata": {
  "anaconda-cloud": {},
  "kernelspec": {
   "display_name": "Python 3",
   "language": "python",
   "name": "python3"
  },
  "language_info": {
   "codemirror_mode": {
    "name": "ipython",
    "version": 3
   },
   "file_extension": ".py",
   "mimetype": "text/x-python",
   "name": "python",
   "nbconvert_exporter": "python",
   "pygments_lexer": "ipython3",
   "version": "3.7.0"
  },
  "nbpresent": {
   "slides": {
    "05ecd7d7-9cba-4418-aac5-da4c3fe73bb4": {
     "id": "05ecd7d7-9cba-4418-aac5-da4c3fe73bb4",
     "prev": "0a9b209a-67bb-4c3e-9f2d-c96d09cb7a48",
     "regions": {
      "20bc7c12-5b1e-421b-8611-3c8a45c46c6d": {
       "attrs": {
        "height": 0.8,
        "width": 0.8,
        "x": 0.1,
        "y": 0.1
       },
       "content": {
        "cell": "8d1374b7-810d-40df-a955-df62c2c98064",
        "part": "whole"
       },
       "id": "20bc7c12-5b1e-421b-8611-3c8a45c46c6d"
      }
     }
    },
    "0a9b209a-67bb-4c3e-9f2d-c96d09cb7a48": {
     "id": "0a9b209a-67bb-4c3e-9f2d-c96d09cb7a48",
     "prev": "5efd9172-cbdf-488c-89c2-5e287829cab9",
     "regions": {
      "0351ccee-4e0f-41c2-b335-4e506fc037a5": {
       "attrs": {
        "height": 0.8,
        "width": 0.8,
        "x": 0.1,
        "y": 0.1
       },
       "content": {
        "cell": "3ca2a22c-8569-47c6-a61b-e17b805dce44",
        "part": "whole"
       },
       "id": "0351ccee-4e0f-41c2-b335-4e506fc037a5"
      }
     }
    },
    "2a614efa-c423-494b-8a72-db4e091005ea": {
     "id": "2a614efa-c423-494b-8a72-db4e091005ea",
     "prev": "6b561424-2d42-4bc7-8822-13597358069f",
     "regions": {
      "1660137c-4c6c-460b-9ef4-18413df87cc5": {
       "attrs": {
        "height": 0.8,
        "width": 0.8,
        "x": 0.1,
        "y": 0.1
       },
       "content": {
        "cell": "f3e2c1a2-c2fb-4b63-92d7-79f1ce6b6862",
        "part": "whole"
       },
       "id": "1660137c-4c6c-460b-9ef4-18413df87cc5"
      }
     }
    },
    "3c877552-cc7f-4f30-8878-950ea3ff87dc": {
     "id": "3c877552-cc7f-4f30-8878-950ea3ff87dc",
     "prev": "05ecd7d7-9cba-4418-aac5-da4c3fe73bb4",
     "regions": {
      "cfe0149a-cf6e-4854-845e-4c75f449e3fd": {
       "attrs": {
        "height": 0.8,
        "width": 0.8,
        "x": 0.1,
        "y": 0.1
       },
       "content": {
        "cell": "7bf92dd6-e1fe-4014-a627-6547ec2a47d0",
        "part": "whole"
       },
       "id": "cfe0149a-cf6e-4854-845e-4c75f449e3fd"
      }
     }
    },
    "40a66a5e-7e7e-4a78-aa6e-67c9e04c8c83": {
     "id": "40a66a5e-7e7e-4a78-aa6e-67c9e04c8c83",
     "prev": "c0a6a80c-7c3e-4e39-848b-b500d3b802d9",
     "regions": {
      "224059a3-582a-4a35-91ac-d651c12d8b11": {
       "attrs": {
        "height": 0.8,
        "width": 0.8,
        "x": 0.1,
        "y": 0.1
       },
       "content": {
        "cell": "f794b7ee-adae-4688-b4b3-84ff7bf533a9",
        "part": "whole"
       },
       "id": "224059a3-582a-4a35-91ac-d651c12d8b11"
      }
     }
    },
    "455358eb-3420-44b8-8412-1058ce2b9c10": {
     "id": "455358eb-3420-44b8-8412-1058ce2b9c10",
     "prev": "2a614efa-c423-494b-8a72-db4e091005ea",
     "regions": {
      "24730e59-5403-48c7-8d2c-aefe13030ebd": {
       "attrs": {
        "height": 0.8,
        "width": 0.8,
        "x": 0.1,
        "y": 0.1
       },
       "content": {
        "cell": "56c40f5a-6ae4-4971-a294-434fc4301143",
        "part": "whole"
       },
       "id": "24730e59-5403-48c7-8d2c-aefe13030ebd"
      }
     }
    },
    "5062eb9f-1b98-4199-85d6-38d4fd4325ae": {
     "id": "5062eb9f-1b98-4199-85d6-38d4fd4325ae",
     "prev": "adadb9c3-a6b5-4d94-8dbf-f22ae8931333",
     "regions": {
      "936bc81f-4634-436e-a03e-cccb2647daf1": {
       "attrs": {
        "height": 0.8,
        "width": 0.8,
        "x": 0.1,
        "y": 0.1
       },
       "content": {
        "cell": "8ee8aca0-4626-42ed-a6fc-57521122bf58",
        "part": "whole"
       },
       "id": "936bc81f-4634-436e-a03e-cccb2647daf1"
      }
     }
    },
    "5efd9172-cbdf-488c-89c2-5e287829cab9": {
     "id": "5efd9172-cbdf-488c-89c2-5e287829cab9",
     "prev": "623c5137-afbc-4abf-8dfd-c58ee28e43c3",
     "regions": {
      "65cd2586-de3e-4ff6-aae6-2c205fdce9c3": {
       "attrs": {
        "height": 0.8,
        "width": 0.8,
        "x": 0.1,
        "y": 0.1
       },
       "content": {
        "cell": "fbc3bc7c-52ec-4557-9e8e-778a4e37c090",
        "part": "whole"
       },
       "id": "65cd2586-de3e-4ff6-aae6-2c205fdce9c3"
      }
     }
    },
    "61c152e5-fa9e-41df-ae32-14aa594bf812": {
     "id": "61c152e5-fa9e-41df-ae32-14aa594bf812",
     "prev": "c20020aa-a7fc-4acf-b020-5fa7625cdcc5",
     "regions": {
      "9b0965fc-157c-4de0-a842-fdecb3134a5c": {
       "attrs": {
        "height": 0.8,
        "width": 0.8,
        "x": 0.1,
        "y": 0.1
       },
       "content": {
        "cell": "820d566f-c7de-4d42-b67c-1df197eb1b6f",
        "part": "whole"
       },
       "id": "9b0965fc-157c-4de0-a842-fdecb3134a5c"
      }
     }
    },
    "623c5137-afbc-4abf-8dfd-c58ee28e43c3": {
     "id": "623c5137-afbc-4abf-8dfd-c58ee28e43c3",
     "prev": "9ddbf212-9157-4d14-bdca-38cb12f04537",
     "regions": {
      "8bfe36fa-d644-4bb7-bed4-50e9aa0694a1": {
       "attrs": {
        "height": 0.8,
        "width": 0.8,
        "x": 0.1,
        "y": 0.1
       },
       "content": {
        "cell": "5d51b254-8e35-41e8-b6ba-67fa6f88ebd6",
        "part": "whole"
       },
       "id": "8bfe36fa-d644-4bb7-bed4-50e9aa0694a1"
      }
     }
    },
    "6a44d08a-4e8a-43a8-a4d8-acdbb5e2e520": {
     "id": "6a44d08a-4e8a-43a8-a4d8-acdbb5e2e520",
     "prev": "926bd5d9-b89d-425a-87f5-60ec53122ee3",
     "regions": {
      "aa0c6d9e-cd3b-4453-a38b-c8998f0b7469": {
       "attrs": {
        "height": 0.8,
        "width": 0.8,
        "x": 0.1,
        "y": 0.1
       },
       "content": {
        "cell": "6d17a399-5c6f-468e-9478-6cfaa0dfb42c",
        "part": "whole"
       },
       "id": "aa0c6d9e-cd3b-4453-a38b-c8998f0b7469"
      }
     }
    },
    "6b561424-2d42-4bc7-8822-13597358069f": {
     "id": "6b561424-2d42-4bc7-8822-13597358069f",
     "prev": "40a66a5e-7e7e-4a78-aa6e-67c9e04c8c83",
     "regions": {
      "12a195d4-e3d5-417d-8359-ee5b691afbf4": {
       "attrs": {
        "height": 0.8,
        "width": 0.8,
        "x": 0.1,
        "y": 0.1
       },
       "content": {
        "cell": "c2726afc-1bf8-4641-9bca-b7593e1c1687",
        "part": "whole"
       },
       "id": "12a195d4-e3d5-417d-8359-ee5b691afbf4"
      }
     }
    },
    "6bb7eaab-62ac-4f87-9f7f-a2de3d00414f": {
     "id": "6bb7eaab-62ac-4f87-9f7f-a2de3d00414f",
     "prev": null,
     "regions": {
      "bdcbb5b6-4ff6-469d-b83f-e60eac5ac605": {
       "attrs": {
        "height": 0.8,
        "width": 0.8,
        "x": 0.1,
        "y": 0.1
       },
       "content": {
        "cell": "0ab7d10f-d03b-4185-9d6e-225fe24f7660",
        "part": "whole"
       },
       "id": "bdcbb5b6-4ff6-469d-b83f-e60eac5ac605"
      }
     }
    },
    "709f6897-8152-42e9-8ec0-e992e2dce7d0": {
     "id": "709f6897-8152-42e9-8ec0-e992e2dce7d0",
     "prev": "455358eb-3420-44b8-8412-1058ce2b9c10",
     "regions": {
      "8608b4dc-842e-4bb7-ae5b-17bfe9842a45": {
       "attrs": {
        "height": 0.8,
        "width": 0.8,
        "x": 0.1,
        "y": 0.1
       },
       "content": {
        "cell": "97ba4f41-01ae-4bf4-90b1-cfdb3f1d885e",
        "part": "whole"
       },
       "id": "8608b4dc-842e-4bb7-ae5b-17bfe9842a45"
      }
     }
    },
    "926bd5d9-b89d-425a-87f5-60ec53122ee3": {
     "id": "926bd5d9-b89d-425a-87f5-60ec53122ee3",
     "prev": "709f6897-8152-42e9-8ec0-e992e2dce7d0",
     "regions": {
      "e81b7576-31ae-4531-8a92-4851c8e42c6c": {
       "attrs": {
        "height": 0.8,
        "width": 0.8,
        "x": 0.1,
        "y": 0.1
       },
       "content": {
        "cell": "2c748366-de25-4bd4-90b9-5c2c7ecd79eb",
        "part": "whole"
       },
       "id": "e81b7576-31ae-4531-8a92-4851c8e42c6c"
      }
     }
    },
    "9ddbf212-9157-4d14-bdca-38cb12f04537": {
     "id": "9ddbf212-9157-4d14-bdca-38cb12f04537",
     "prev": "dff88996-d9b8-471b-b4d7-484ece4a4e18",
     "regions": {
      "c552a688-d9f3-4cd7-b5e3-edaf5acd65d8": {
       "attrs": {
        "height": 0.8,
        "width": 0.8,
        "x": 0.1,
        "y": 0.1
       },
       "content": {
        "cell": "add973be-18c6-4fa4-9fb4-b2a6e2064734",
        "part": "whole"
       },
       "id": "c552a688-d9f3-4cd7-b5e3-edaf5acd65d8"
      }
     }
    },
    "adadb9c3-a6b5-4d94-8dbf-f22ae8931333": {
     "id": "adadb9c3-a6b5-4d94-8dbf-f22ae8931333",
     "prev": "6bb7eaab-62ac-4f87-9f7f-a2de3d00414f",
     "regions": {
      "e43497cf-b56d-4547-a248-bf613edc5a0b": {
       "attrs": {
        "height": 0.8,
        "width": 0.8,
        "x": 0.1,
        "y": 0.1
       },
       "content": {
        "cell": "5436ae23-8243-41b7-90fa-4ae2194d8e3d",
        "part": "whole"
       },
       "id": "e43497cf-b56d-4547-a248-bf613edc5a0b"
      }
     }
    },
    "c0a6a80c-7c3e-4e39-848b-b500d3b802d9": {
     "id": "c0a6a80c-7c3e-4e39-848b-b500d3b802d9",
     "prev": "3c877552-cc7f-4f30-8878-950ea3ff87dc",
     "regions": {
      "20376737-fb72-4c57-a82e-df3a5012ed6c": {
       "attrs": {
        "height": 0.8,
        "width": 0.8,
        "x": 0.1,
        "y": 0.1
       },
       "content": {
        "cell": "68f1026f-21d5-4176-81c9-874e9e21a511",
        "part": "whole"
       },
       "id": "20376737-fb72-4c57-a82e-df3a5012ed6c"
      }
     }
    },
    "c20020aa-a7fc-4acf-b020-5fa7625cdcc5": {
     "id": "c20020aa-a7fc-4acf-b020-5fa7625cdcc5",
     "prev": "5062eb9f-1b98-4199-85d6-38d4fd4325ae",
     "regions": {
      "bf90103e-75f0-4055-b339-5f1a76721b6f": {
       "attrs": {
        "height": 0.8,
        "width": 0.8,
        "x": 0.1,
        "y": 0.1
       },
       "content": {
        "cell": "8d7e9088-d40a-47d4-8811-5d9d747e9194",
        "part": "whole"
       },
       "id": "bf90103e-75f0-4055-b339-5f1a76721b6f"
      }
     }
    },
    "dff88996-d9b8-471b-b4d7-484ece4a4e18": {
     "id": "dff88996-d9b8-471b-b4d7-484ece4a4e18",
     "prev": "61c152e5-fa9e-41df-ae32-14aa594bf812",
     "regions": {
      "c124e907-a1f0-473d-b30b-cecc075f63fb": {
       "attrs": {
        "height": 0.8,
        "width": 0.8,
        "x": 0.1,
        "y": 0.1
       },
       "content": {
        "cell": "049c5e56-e0a0-45c4-b99c-c35b975ad0de",
        "part": "whole"
       },
       "id": "c124e907-a1f0-473d-b30b-cecc075f63fb"
      }
     }
    },
    "ffb7de52-1b70-4133-accf-e8234af4cf5f": {
     "id": "ffb7de52-1b70-4133-accf-e8234af4cf5f",
     "prev": "6a44d08a-4e8a-43a8-a4d8-acdbb5e2e520",
     "regions": {
      "6513964c-2d95-4f5a-b8bd-2b1b4efb4f3f": {
       "attrs": {
        "height": 0.8,
        "width": 0.8,
        "x": 0.1,
        "y": 0.1
       },
       "content": {
        "cell": "bd5c3a22-2aeb-4f8a-bc84-25b6829368d6",
        "part": "whole"
       },
       "id": "6513964c-2d95-4f5a-b8bd-2b1b4efb4f3f"
      }
     }
    }
   },
   "themes": {
    "default": "69dbb811-fc26-4203-983a-6d144f96e861",
    "theme": {
     "68164450-bbe9-460e-965b-a83a44cb78a2": {
      "backgrounds": {
       "dc7afa04-bf90-40b1-82a5-726e3cff5267": {
        "background-color": "31af15d2-7e15-44c5-ab5e-e04b16a89eff",
        "id": "dc7afa04-bf90-40b1-82a5-726e3cff5267"
       }
      },
      "id": "68164450-bbe9-460e-965b-a83a44cb78a2",
      "palette": {
       "19cc588f-0593-49c9-9f4b-e4d7cc113b1c": {
        "id": "19cc588f-0593-49c9-9f4b-e4d7cc113b1c",
        "rgb": [
         252,
         252,
         252
        ]
       },
       "31af15d2-7e15-44c5-ab5e-e04b16a89eff": {
        "id": "31af15d2-7e15-44c5-ab5e-e04b16a89eff",
        "rgb": [
         68,
         68,
         68
        ]
       },
       "50f92c45-a630-455b-aec3-788680ec7410": {
        "id": "50f92c45-a630-455b-aec3-788680ec7410",
        "rgb": [
         197,
         226,
         245
        ]
       },
       "c5cc3653-2ee1-402a-aba2-7caae1da4f6c": {
        "id": "c5cc3653-2ee1-402a-aba2-7caae1da4f6c",
        "rgb": [
         43,
         126,
         184
        ]
       },
       "efa7f048-9acb-414c-8b04-a26811511a21": {
        "id": "efa7f048-9acb-414c-8b04-a26811511a21",
        "rgb": [
         25.118061674008803,
         73.60176211453744,
         107.4819383259912
        ]
       }
      },
      "rules": {
       "a": {
        "color": "19cc588f-0593-49c9-9f4b-e4d7cc113b1c"
       },
       "blockquote": {
        "color": "50f92c45-a630-455b-aec3-788680ec7410",
        "font-size": 3
       },
       "code": {
        "font-family": "Anonymous Pro"
       },
       "h1": {
        "color": "19cc588f-0593-49c9-9f4b-e4d7cc113b1c",
        "font-family": "Merriweather",
        "font-size": 8
       },
       "h2": {
        "color": "19cc588f-0593-49c9-9f4b-e4d7cc113b1c",
        "font-family": "Merriweather",
        "font-size": 6
       },
       "h3": {
        "color": "50f92c45-a630-455b-aec3-788680ec7410",
        "font-family": "Lato",
        "font-size": 5.5
       },
       "h4": {
        "color": "c5cc3653-2ee1-402a-aba2-7caae1da4f6c",
        "font-family": "Lato",
        "font-size": 5
       },
       "h5": {
        "font-family": "Lato"
       },
       "h6": {
        "font-family": "Lato"
       },
       "h7": {
        "font-family": "Lato"
       },
       "li": {
        "color": "50f92c45-a630-455b-aec3-788680ec7410",
        "font-size": 3.25
       },
       "pre": {
        "font-family": "Anonymous Pro",
        "font-size": 4
       }
      },
      "text-base": {
       "color": "19cc588f-0593-49c9-9f4b-e4d7cc113b1c",
       "font-family": "Lato",
       "font-size": 4
      }
     },
     "69dbb811-fc26-4203-983a-6d144f96e861": {
      "id": "69dbb811-fc26-4203-983a-6d144f96e861",
      "palette": {
       "19cc588f-0593-49c9-9f4b-e4d7cc113b1c": {
        "id": "19cc588f-0593-49c9-9f4b-e4d7cc113b1c",
        "rgb": [
         252,
         252,
         252
        ]
       },
       "31af15d2-7e15-44c5-ab5e-e04b16a89eff": {
        "id": "31af15d2-7e15-44c5-ab5e-e04b16a89eff",
        "rgb": [
         68,
         68,
         68
        ]
       },
       "50f92c45-a630-455b-aec3-788680ec7410": {
        "id": "50f92c45-a630-455b-aec3-788680ec7410",
        "rgb": [
         155,
         177,
         192
        ]
       },
       "c5cc3653-2ee1-402a-aba2-7caae1da4f6c": {
        "id": "c5cc3653-2ee1-402a-aba2-7caae1da4f6c",
        "rgb": [
         43,
         126,
         184
        ]
       },
       "efa7f048-9acb-414c-8b04-a26811511a21": {
        "id": "efa7f048-9acb-414c-8b04-a26811511a21",
        "rgb": [
         25.118061674008803,
         73.60176211453744,
         107.4819383259912
        ]
       }
      },
      "rules": {
       "blockquote": {
        "color": "50f92c45-a630-455b-aec3-788680ec7410"
       },
       "code": {
        "font-family": "Anonymous Pro"
       },
       "h1": {
        "color": "c5cc3653-2ee1-402a-aba2-7caae1da4f6c",
        "font-family": "Lato",
        "font-size": 8
       },
       "h2": {
        "color": "c5cc3653-2ee1-402a-aba2-7caae1da4f6c",
        "font-family": "Lato",
        "font-size": 6
       },
       "h3": {
        "color": "50f92c45-a630-455b-aec3-788680ec7410",
        "font-family": "Lato",
        "font-size": 5.5
       },
       "h4": {
        "color": "c5cc3653-2ee1-402a-aba2-7caae1da4f6c",
        "font-family": "Lato",
        "font-size": 5
       },
       "h5": {
        "font-family": "Lato"
       },
       "h6": {
        "font-family": "Lato"
       },
       "h7": {
        "font-family": "Lato"
       },
       "pre": {
        "font-family": "Anonymous Pro",
        "font-size": 4
       }
      },
      "text-base": {
       "font-family": "Merriweather",
       "font-size": 4
      }
     },
     "cd9d7f0f-3781-45dd-afce-1b7712e13467": {
      "backgrounds": {
       "backgroundColor": {
        "background-color": "backgroundColor",
        "id": "backgroundColor"
       }
      },
      "id": "cd9d7f0f-3781-45dd-afce-1b7712e13467",
      "palette": {
       "backgroundColor": {
        "id": "backgroundColor",
        "rgb": [
         256,
         256,
         256
        ]
       },
       "headingColor": {
        "id": "headingColor",
        "rgb": [
         0,
         0,
         0
        ]
       },
       "linkColor": {
        "id": "linkColor",
        "rgb": [
         0,
         0,
         139
        ]
       },
       "mainColor": {
        "id": "mainColor",
        "rgb": [
         0,
         0,
         0
        ]
       }
      },
      "rules": {
       "a": {
        "color": "linkColor"
       },
       "h1": {
        "color": "headingColor",
        "font-family": "News Cycle",
        "font-size": 7
       },
       "h2": {
        "color": "headingColor",
        "font-family": "News Cycle",
        "font-size": 5
       },
       "h3": {
        "color": "headingColor",
        "font-family": "News Cycle",
        "font-size": 3.75
       },
       "h4": {
        "color": "headingColor",
        "font-family": "News Cycle",
        "font-size": 3
       },
       "h5": {
        "color": "headingColor",
        "font-family": "News Cycle"
       },
       "h6": {
        "color": "headingColor",
        "font-family": "News Cycle"
       },
       "h7": {
        "color": "headingColor",
        "font-family": "News Cycle"
       },
       "li": {
        "color": "mainColor",
        "font-family": "Lato",
        "font-size": 5
       },
       "p": {
        "color": "mainColor",
        "font-family": "Lato",
        "font-size": 5
       }
      },
      "text-base": {
       "color": "mainColor",
       "font-family": "Lato",
       "font-size": 5
      }
     },
     "e3e3adf5-9e47-4dee-822e-a8d54764b213": {
      "id": "e3e3adf5-9e47-4dee-822e-a8d54764b213",
      "palette": {
       "19cc588f-0593-49c9-9f4b-e4d7cc113b1c": {
        "id": "19cc588f-0593-49c9-9f4b-e4d7cc113b1c",
        "rgb": [
         252,
         252,
         252
        ]
       },
       "31af15d2-7e15-44c5-ab5e-e04b16a89eff": {
        "id": "31af15d2-7e15-44c5-ab5e-e04b16a89eff",
        "rgb": [
         68,
         68,
         68
        ]
       },
       "50f92c45-a630-455b-aec3-788680ec7410": {
        "id": "50f92c45-a630-455b-aec3-788680ec7410",
        "rgb": [
         155,
         177,
         192
        ]
       },
       "c5cc3653-2ee1-402a-aba2-7caae1da4f6c": {
        "id": "c5cc3653-2ee1-402a-aba2-7caae1da4f6c",
        "rgb": [
         43,
         126,
         184
        ]
       },
       "efa7f048-9acb-414c-8b04-a26811511a21": {
        "id": "efa7f048-9acb-414c-8b04-a26811511a21",
        "rgb": [
         25.118061674008803,
         73.60176211453744,
         107.4819383259912
        ]
       }
      },
      "rules": {
       "blockquote": {
        "color": "50f92c45-a630-455b-aec3-788680ec7410"
       },
       "code": {
        "font-family": "Anonymous Pro"
       },
       "h1": {
        "color": "c5cc3653-2ee1-402a-aba2-7caae1da4f6c",
        "font-family": "Lato",
        "font-size": 8
       },
       "h2": {
        "color": "c5cc3653-2ee1-402a-aba2-7caae1da4f6c",
        "font-family": "Lato",
        "font-size": 6
       },
       "h3": {
        "color": "50f92c45-a630-455b-aec3-788680ec7410",
        "font-family": "Lato",
        "font-size": 5.5
       },
       "h4": {
        "color": "c5cc3653-2ee1-402a-aba2-7caae1da4f6c",
        "font-family": "Lato",
        "font-size": 5
       },
       "h5": {
        "font-family": "Lato"
       },
       "h6": {
        "font-family": "Lato"
       },
       "h7": {
        "font-family": "Lato"
       },
       "pre": {
        "font-family": "Anonymous Pro",
        "font-size": 4
       }
      },
      "text-base": {
       "font-family": "Merriweather",
       "font-size": 4
      }
     }
    }
   }
  }
 },
 "nbformat": 4,
 "nbformat_minor": 1
}
